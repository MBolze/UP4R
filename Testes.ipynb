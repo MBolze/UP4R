{
 "cells": [
  {
   "cell_type": "code",
   "execution_count": 5,
   "id": "4c2bc21e",
   "metadata": {},
   "outputs": [
    {
     "data": {
      "text/plain": [
       "4.242640687119285"
      ]
     },
     "execution_count": 5,
     "metadata": {},
     "output_type": "execute_result"
    }
   ],
   "source": [
    "import numpy as np\n",
    "\n",
    "def distance(p1, p2):\n",
    "    \"\"\"Find the distance between points p1 and 2p\"\"\"\n",
    "    return np.sqrt(np.sum(np.power(p2 - p1, 2)))\n",
    "\n",
    "p1 = np.array([1,1])\n",
    "p2 = np.array([4,4])\n",
    "distance(p1, p2)"
   ]
  },
  {
   "cell_type": "code",
   "execution_count": 21,
   "id": "b38c349d",
   "metadata": {},
   "outputs": [
    {
     "data": {
      "text/plain": [
       "3"
      ]
     },
     "execution_count": 21,
     "metadata": {},
     "output_type": "execute_result"
    }
   ],
   "source": [
    "import random\n",
    "\n",
    "def majority_vote(votes):\n",
    "    \"\"\"\n",
    "    Return de the most commom element in votes\n",
    "    \"\"\"\n",
    "    vote_counts = {}\n",
    "    for vote in votes:\n",
    "        if vote in vote_counts:\n",
    "            vote_counts[vote] += 1\n",
    "        else:\n",
    "            vote_counts[vote] = 1\n",
    "    winners = []\n",
    "    max_count = max(vote_counts.values())\n",
    "    for vote, count in vote_counts.items():\n",
    "        if count == max_count:\n",
    "            winners.append(vote)\n",
    "                        \n",
    "    return random.choice(winners)\n",
    "\n",
    "votes = [1,2,3,1,2,3,1,2,3,3,3,3,2,2,2]\n",
    "winner = majority_vote(votes)\n",
    "\n",
    "winner"
   ]
  },
  {
   "cell_type": "code",
   "execution_count": 24,
   "id": "9520dbf0",
   "metadata": {},
   "outputs": [
    {
     "data": {
      "text/plain": [
       "array([2.])"
      ]
     },
     "execution_count": 24,
     "metadata": {},
     "output_type": "execute_result"
    }
   ],
   "source": [
    "import scipy.stats as ss\n",
    "\n",
    "def majority_vote_short(votes):\n",
    "    \"\"\"\n",
    "    Return de the most commom element in votes\n",
    "    \"\"\"\n",
    "    mode, count = ss.mstats.mode(votes)\n",
    "    return mode\n",
    "\n",
    "majority_vote_short(votes)"
   ]
  },
  {
   "cell_type": "code",
   "execution_count": 46,
   "id": "1f8a17f5",
   "metadata": {},
   "outputs": [
    {
     "data": {
      "text/plain": [
       "(0.5, 3.5, 0.5, 3.5)"
      ]
     },
     "execution_count": 46,
     "metadata": {},
     "output_type": "execute_result"
    },
    {
     "data": {
      "image/png": "[encoded data removed]",
      "text/plain": [
       "<Figure size 640x480 with 1 Axes>"
      ]
     },
     "metadata": {},
     "output_type": "display_data"
    }
   ],
   "source": [
    "import matplotlib.pyplot as plt\n",
    "\n",
    "def find_nearest_neighbors(p, points, k=5):\n",
    "    \"\"\"\n",
    "    Find the k nearest neighbors (points) of point p and return their indices.\n",
    "    \"\"\"\n",
    "    distances = np.zeros(points.shape[0])\n",
    "    for i in range(len(distances)):\n",
    "        distances[i] = distance(p, points[i])\n",
    "    ind = np.argsort(distances)\n",
    "    return ind[0:k]\n",
    "\n",
    "points = np.array([[1,1], [1,2], [1,3], [2,1], [2,2], [2,3], [3,1], [3,2], [3,3]])\n",
    "p = np.array([2.5, 2])\n",
    "\n",
    "plt.plot(points[:,0], points[:,1], \"ro\")\n",
    "plt.plot(p[0], p[1], \"bo\")\n",
    "plt.axis([0.5, 3.5, 0.5, 3.5])"
   ]
  },
  {
   "cell_type": "code",
   "execution_count": 51,
   "id": "b5adf020",
   "metadata": {},
   "outputs": [
    {
     "data": {
      "text/plain": [
       "array([[2, 2],\n",
       "       [3, 2],\n",
       "       [2, 1],\n",
       "       [2, 3]])"
      ]
     },
     "execution_count": 51,
     "metadata": {},
     "output_type": "execute_result"
    }
   ],
   "source": [
    "ind = find_nearest_neighbors(p, points, 4)\n",
    "points[ind]"
   ]
  },
  {
   "cell_type": "code",
   "execution_count": 59,
   "id": "605c0215",
   "metadata": {},
   "outputs": [
    {
     "data": {
      "text/plain": [
       "0"
      ]
     },
     "execution_count": 59,
     "metadata": {},
     "output_type": "execute_result"
    }
   ],
   "source": [
    "def knn_predict(p, points, outcomes, k=5):\n",
    "    ind = find_nearest_neighbors(p, points, k)\n",
    "    return majority_vote(outcomes[ind])\n",
    "\n",
    "outcomes = np.array([0,0,0,0,1,1,1,1,1])\n",
    "knn_predict(np.array([1.0, 2.7]), points, outcomes, 2)"
   ]
  },
  {
   "cell_type": "code",
   "execution_count": 75,
   "id": "da97fb0e",
   "metadata": {},
   "outputs": [
    {
     "data": {
      "text/plain": [
       "[<matplotlib.lines.Line2D at 0x1e16d73d950>]"
      ]
     },
     "execution_count": 75,
     "metadata": {},
     "output_type": "execute_result"
    },
    {
     "data": {
      "image/png": "[encoded data removed]",
      "text/plain": [
       "<Figure size 640x480 with 1 Axes>"
      ]
     },
     "metadata": {},
     "output_type": "display_data"
    }
   ],
   "source": [
    "def generate_synth_data(n=50):\n",
    "    \"\"\"\n",
    "    Creat two sets of points from bivariate normal distributions.\n",
    "    \"\"\"\n",
    "    points = np.concatenate((ss.norm(0,1).rvs((n,2)), ss.norm(1,1).rvs((n,2))), axis=0)\n",
    "    outcomes = np.concatenate((np.repeat(0, n), np.repeat(1, n)))\n",
    "    return (points, outcomes)\n",
    "\n",
    "n=20\n",
    "(points, outcomes) = generate_synth_data(n)\n",
    "\n",
    "plt.figure()\n",
    "plt.plot(points[:n,0], points[:n,1], \"ro\")\n",
    "plt.plot(points[n:,0], points[n:,1], \"bo\")"
   ]
  },
  {
   "cell_type": "code",
   "execution_count": 78,
   "id": "58b747d9",
   "metadata": {},
   "outputs": [],
   "source": [
    "def make_prediction_grid(predictors, outcomes, limits, h, k):\n",
    "    \"\"\"\n",
    "    Classify each point on the prediction grid.\n",
    "    \"\"\"\n",
    "    (x_min, x_max, y_min, y_max) = limits\n",
    "    xs = np.arange(x_min, x_max, h)\n",
    "    ys = np.arange(y_min, y_max, h)\n",
    "    xx, yy = np.meshgrid(xs, ys)\n",
    "    \n",
    "    prediction_grid = np.zeros(xx.shape, dtype=int)\n",
    "    for i,x in enumerate(xs):\n",
    "        for j,y in enumerate(ys):\n",
    "            p = np.array([x,y])\n",
    "            prediction_grid[j,i] = knn_predict(p, predictors, outcomes, k)\n",
    "    \n",
    "    return (xx, yy, prediction_grid)"
   ]
  },
  {
   "cell_type": "code",
   "execution_count": 80,
   "id": "a9e05db6",
   "metadata": {},
   "outputs": [
    {
     "data": {
      "text/plain": [
       "(100,)"
      ]
     },
     "execution_count": 80,
     "metadata": {},
     "output_type": "execute_result"
    }
   ],
   "source": [
    "(predictors, outcomes) = generate_synth_data()\n",
    "outcomes.shape"
   ]
  },
  {
   "cell_type": "code",
   "execution_count": 1,
   "id": "d8a78094",
   "metadata": {},
   "outputs": [
    {
     "data": {
      "text/plain": [
       "0    4\n",
       "1    1\n",
       "2    2\n",
       "3    3\n",
       "dtype: int64"
      ]
     },
     "execution_count": 1,
     "metadata": {},
     "output_type": "execute_result"
    }
   ],
   "source": [
    "import pandas as pd\n",
    "data = pd.Series([1,2,3,4])\n",
    "data = data.iloc[[3,0,1,2]]\n",
    "data = data.reset_index(drop=True)\n",
    "data"
   ]
  },
  {
   "cell_type": "code",
   "execution_count": 15,
   "id": "294337d4",
   "metadata": {},
   "outputs": [
    {
     "data": {
      "text/plain": [
       "40916    2013-08-15 00:01:08+00\n",
       "40917    2013-08-15 00:31:00+00\n",
       "40918    2013-08-15 01:01:19+00\n",
       "40919    2013-08-15 01:31:38+00\n",
       "40920    2013-08-15 02:01:24+00\n",
       "                  ...          \n",
       "61915    2014-04-30 22:00:08+00\n",
       "61916    2014-04-30 22:29:57+00\n",
       "61917    2014-04-30 22:59:52+00\n",
       "61918    2014-04-30 23:29:43+00\n",
       "61919    2014-04-30 23:59:34+00\n",
       "Name: date_time, Length: 21004, dtype: object"
      ]
     },
     "execution_count": 15,
     "metadata": {},
     "output_type": "execute_result"
    }
   ],
   "source": [
    "birddata = pd.read_csv(\"bird_tracking.csv\", index_col=0)\n",
    "ix = birddata.bird_name == \"Sanne\"\n",
    "birddata.date_time[ix]"
   ]
  },
  {
   "cell_type": "code",
   "execution_count": 8,
   "id": "e37aadef",
   "metadata": {},
   "outputs": [
    {
     "data": {
      "text/plain": [
       "array(['Eric', 'Nico', 'Sanne'], dtype=object)"
      ]
     },
     "execution_count": 8,
     "metadata": {},
     "output_type": "execute_result"
    }
   ],
   "source": [
    "bird_names = pd.unique(birddata.bird_name)\n",
    "bird_names"
   ]
  },
  {
   "cell_type": "code",
   "execution_count": 12,
   "id": "ae1102ac",
   "metadata": {},
   "outputs": [
    {
     "data": {
      "text/plain": [
       "(array([1.7732e+04, 1.5020e+03, 3.6900e+02, 7.8000e+01, 1.2000e+01,\n",
       "        7.0000e+00, 3.0000e+00, 2.0000e+00, 3.0000e+00, 2.0000e+00]),\n",
       " array([ 0.        ,  6.34880658, 12.69761316, 19.04641974, 25.39522632,\n",
       "        31.7440329 , 38.09283948, 44.44164607, 50.79045265, 57.13925923,\n",
       "        63.48806581]),\n",
       " <BarContainer object of 10 artists>)"
      ]
     },
     "execution_count": 12,
     "metadata": {},
     "output_type": "execute_result"
    },
    {
     "data": {
      "image/png": "[encoded data removed]",
      "text/plain": [
       "<Figure size 640x480 with 1 Axes>"
      ]
     },
     "metadata": {},
     "output_type": "display_data"
    }
   ],
   "source": [
    "import numpy as np\n",
    "import matplotlib.pyplot as plt\n",
    "\n",
    "ix = birddata.bird_name == \"Eric\"\n",
    "speed = birddata.speed_2d[ix]\n",
    "ind = np.isnan(speed)\n",
    "plt.hist(speed[~ind])"
   ]
  },
  {
   "cell_type": "code",
   "execution_count": 1,
   "id": "f1226794",
   "metadata": {},
   "outputs": [],
   "source": [
    "import cartopy.crs as ccrs\n",
    "import cartopy.feature as cfeature\n",
    "\n",
    "proj = ccrs.Mercator()\n",
    "\n"
   ]
  }
 ],
 "metadata": {
  "kernelspec": {
   "display_name": "Python 3 (ipykernel)",
   "language": "python",
   "name": "python3"
  },
  "language_info": {
   "codemirror_mode": {
    "name": "ipython",
    "version": 3
   },
   "file_extension": ".py",
   "mimetype": "text/x-python",
   "name": "python",
   "nbconvert_exporter": "python",
   "pygments_lexer": "ipython3",
   "version": "3.11.4"
  }
 },
 "nbformat": 4,
 "nbformat_minor": 5
}
